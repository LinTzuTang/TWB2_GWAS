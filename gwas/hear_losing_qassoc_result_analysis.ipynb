{
 "cells": [
  {
   "cell_type": "code",
   "execution_count": 33,
   "metadata": {},
   "outputs": [],
   "source": [
    "import pandas as pd\n",
    "p = pd.read_table('hear_losing.qassoc',low_memory=False, sep='\\s+')"
   ]
  },
  {
   "cell_type": "markdown",
   "metadata": {},
   "source": [
    "## Top 500"
   ]
  },
  {
   "cell_type": "code",
   "execution_count": 46,
   "metadata": {},
   "outputs": [],
   "source": [
    "top_500 = p.sort_values(by=['P']).iloc[:500]"
   ]
  },
  {
   "cell_type": "code",
   "execution_count": 57,
   "metadata": {},
   "outputs": [
    {
     "name": "stderr",
     "output_type": "stream",
     "text": [
      "/usr/local/lib/python3.8/dist-packages/seaborn/_decorators.py:36: FutureWarning: Pass the following variable as a keyword arg: x. From version 0.12, the only valid positional argument will be `data`, and passing other arguments without an explicit keyword will result in an error or misinterpretation.\n",
      "  warnings.warn(\n"
     ]
    },
    {
     "data": {
      "image/png": "[encoded data removed]",
      "text/plain": [
       "<Figure size 640x480 with 1 Axes>"
      ]
     },
     "metadata": {},
     "output_type": "display_data"
    }
   ],
   "source": [
    "# plot chromosome distribution \n",
    "import seaborn as sns\n",
    "import matplotlib.pyplot as plt\n",
    "sns.countplot(top_500['CHR'])\n",
    "plt.show()"
   ]
  },
  {
   "cell_type": "code",
   "execution_count": 60,
   "metadata": {},
   "outputs": [],
   "source": [
    "top_500['SNP'].to_csv('top_500_hear_losing_snp_id.txt',index=None,header=None)"
   ]
  },
  {
   "cell_type": "markdown",
   "metadata": {},
   "source": [
    "##  Top 5000"
   ]
  },
  {
   "cell_type": "code",
   "execution_count": 62,
   "metadata": {},
   "outputs": [],
   "source": [
    "top_5000 = p.sort_values(by=['P']).iloc[:5000]"
   ]
  },
  {
   "cell_type": "code",
   "execution_count": 63,
   "metadata": {},
   "outputs": [
    {
     "data": {
      "text/html": [
       "<div>\n",
       "<style scoped>\n",
       "    .dataframe tbody tr th:only-of-type {\n",
       "        vertical-align: middle;\n",
       "    }\n",
       "\n",
       "    .dataframe tbody tr th {\n",
       "        vertical-align: top;\n",
       "    }\n",
       "\n",
       "    .dataframe thead th {\n",
       "        text-align: right;\n",
       "    }\n",
       "</style>\n",
       "<table border=\"1\" class=\"dataframe\">\n",
       "  <thead>\n",
       "    <tr style=\"text-align: right;\">\n",
       "      <th></th>\n",
       "      <th>CHR</th>\n",
       "      <th>SNP</th>\n",
       "      <th>BP</th>\n",
       "      <th>NMISS</th>\n",
       "      <th>BETA</th>\n",
       "      <th>SE</th>\n",
       "      <th>R2</th>\n",
       "      <th>T</th>\n",
       "      <th>P</th>\n",
       "    </tr>\n",
       "  </thead>\n",
       "  <tbody>\n",
       "    <tr>\n",
       "      <th>179548</th>\n",
       "      <td>6</td>\n",
       "      <td>rs62419631</td>\n",
       "      <td>101565537</td>\n",
       "      <td>5682</td>\n",
       "      <td>1.4900</td>\n",
       "      <td>0.3145</td>\n",
       "      <td>0.003934</td>\n",
       "      <td>4.736</td>\n",
       "      <td>0.000002</td>\n",
       "    </tr>\n",
       "    <tr>\n",
       "      <th>433226</th>\n",
       "      <td>22</td>\n",
       "      <td>rs117119293</td>\n",
       "      <td>33118981</td>\n",
       "      <td>5685</td>\n",
       "      <td>5.6940</td>\n",
       "      <td>1.2500</td>\n",
       "      <td>0.003640</td>\n",
       "      <td>4.557</td>\n",
       "      <td>0.000005</td>\n",
       "    </tr>\n",
       "    <tr>\n",
       "      <th>82689</th>\n",
       "      <td>3</td>\n",
       "      <td>rs2371109</td>\n",
       "      <td>27716783</td>\n",
       "      <td>5681</td>\n",
       "      <td>1.9000</td>\n",
       "      <td>0.4256</td>\n",
       "      <td>0.003498</td>\n",
       "      <td>4.465</td>\n",
       "      <td>0.000008</td>\n",
       "    </tr>\n",
       "    <tr>\n",
       "      <th>155107</th>\n",
       "      <td>5</td>\n",
       "      <td>rs7717100</td>\n",
       "      <td>175665068</td>\n",
       "      <td>5691</td>\n",
       "      <td>1.5160</td>\n",
       "      <td>0.3404</td>\n",
       "      <td>0.003473</td>\n",
       "      <td>4.453</td>\n",
       "      <td>0.000009</td>\n",
       "    </tr>\n",
       "    <tr>\n",
       "      <th>82691</th>\n",
       "      <td>3</td>\n",
       "      <td>rs3806624</td>\n",
       "      <td>27723132</td>\n",
       "      <td>5688</td>\n",
       "      <td>1.8800</td>\n",
       "      <td>0.4227</td>\n",
       "      <td>0.003468</td>\n",
       "      <td>4.448</td>\n",
       "      <td>0.000009</td>\n",
       "    </tr>\n",
       "    <tr>\n",
       "      <th>...</th>\n",
       "      <td>...</td>\n",
       "      <td>...</td>\n",
       "      <td>...</td>\n",
       "      <td>...</td>\n",
       "      <td>...</td>\n",
       "      <td>...</td>\n",
       "      <td>...</td>\n",
       "      <td>...</td>\n",
       "      <td>...</td>\n",
       "    </tr>\n",
       "    <tr>\n",
       "      <th>371460</th>\n",
       "      <td>16</td>\n",
       "      <td>Affx-13240508</td>\n",
       "      <td>78718965</td>\n",
       "      <td>5690</td>\n",
       "      <td>-1.1820</td>\n",
       "      <td>0.4696</td>\n",
       "      <td>0.001112</td>\n",
       "      <td>-2.516</td>\n",
       "      <td>0.011890</td>\n",
       "    </tr>\n",
       "    <tr>\n",
       "      <th>182804</th>\n",
       "      <td>6</td>\n",
       "      <td>rs10485341</td>\n",
       "      <td>125075847</td>\n",
       "      <td>5680</td>\n",
       "      <td>-0.9011</td>\n",
       "      <td>0.3581</td>\n",
       "      <td>0.001114</td>\n",
       "      <td>-2.516</td>\n",
       "      <td>0.011890</td>\n",
       "    </tr>\n",
       "    <tr>\n",
       "      <th>11065</th>\n",
       "      <td>1</td>\n",
       "      <td>rs34190970</td>\n",
       "      <td>51083674</td>\n",
       "      <td>5681</td>\n",
       "      <td>1.3310</td>\n",
       "      <td>0.5288</td>\n",
       "      <td>0.001113</td>\n",
       "      <td>2.516</td>\n",
       "      <td>0.011900</td>\n",
       "    </tr>\n",
       "    <tr>\n",
       "      <th>427877</th>\n",
       "      <td>21</td>\n",
       "      <td>rs2835451</td>\n",
       "      <td>36742669</td>\n",
       "      <td>5673</td>\n",
       "      <td>0.8089</td>\n",
       "      <td>0.3215</td>\n",
       "      <td>0.001115</td>\n",
       "      <td>2.516</td>\n",
       "      <td>0.011900</td>\n",
       "    </tr>\n",
       "    <tr>\n",
       "      <th>361589</th>\n",
       "      <td>16</td>\n",
       "      <td>rs75013335</td>\n",
       "      <td>6443327</td>\n",
       "      <td>5694</td>\n",
       "      <td>1.5850</td>\n",
       "      <td>0.6301</td>\n",
       "      <td>0.001111</td>\n",
       "      <td>2.516</td>\n",
       "      <td>0.011900</td>\n",
       "    </tr>\n",
       "  </tbody>\n",
       "</table>\n",
       "<p>5000 rows × 9 columns</p>\n",
       "</div>"
      ],
      "text/plain": [
       "        CHR            SNP         BP  NMISS    BETA      SE        R2      T  \\\n",
       "179548    6     rs62419631  101565537   5682  1.4900  0.3145  0.003934  4.736   \n",
       "433226   22    rs117119293   33118981   5685  5.6940  1.2500  0.003640  4.557   \n",
       "82689     3      rs2371109   27716783   5681  1.9000  0.4256  0.003498  4.465   \n",
       "155107    5      rs7717100  175665068   5691  1.5160  0.3404  0.003473  4.453   \n",
       "82691     3      rs3806624   27723132   5688  1.8800  0.4227  0.003468  4.448   \n",
       "...     ...            ...        ...    ...     ...     ...       ...    ...   \n",
       "371460   16  Affx-13240508   78718965   5690 -1.1820  0.4696  0.001112 -2.516   \n",
       "182804    6     rs10485341  125075847   5680 -0.9011  0.3581  0.001114 -2.516   \n",
       "11065     1     rs34190970   51083674   5681  1.3310  0.5288  0.001113  2.516   \n",
       "427877   21      rs2835451   36742669   5673  0.8089  0.3215  0.001115  2.516   \n",
       "361589   16     rs75013335    6443327   5694  1.5850  0.6301  0.001111  2.516   \n",
       "\n",
       "               P  \n",
       "179548  0.000002  \n",
       "433226  0.000005  \n",
       "82689   0.000008  \n",
       "155107  0.000009  \n",
       "82691   0.000009  \n",
       "...          ...  \n",
       "371460  0.011890  \n",
       "182804  0.011890  \n",
       "11065   0.011900  \n",
       "427877  0.011900  \n",
       "361589  0.011900  \n",
       "\n",
       "[5000 rows x 9 columns]"
      ]
     },
     "execution_count": 63,
     "metadata": {},
     "output_type": "execute_result"
    }
   ],
   "source": [
    "top_5000"
   ]
  },
  {
   "cell_type": "code",
   "execution_count": 64,
   "metadata": {},
   "outputs": [
    {
     "name": "stderr",
     "output_type": "stream",
     "text": [
      "/usr/local/lib/python3.8/dist-packages/seaborn/_decorators.py:36: FutureWarning: Pass the following variable as a keyword arg: x. From version 0.12, the only valid positional argument will be `data`, and passing other arguments without an explicit keyword will result in an error or misinterpretation.\n",
      "  warnings.warn(\n"
     ]
    },
    {
     "data": {
      "image/png": "[encoded data removed]",
      "text/plain": [
       "<Figure size 640x480 with 1 Axes>"
      ]
     },
     "metadata": {},
     "output_type": "display_data"
    }
   ],
   "source": [
    "sns.countplot(top_5000['CHR'])\n",
    "plt.show()"
   ]
  },
  {
   "cell_type": "code",
   "execution_count": 65,
   "metadata": {},
   "outputs": [],
   "source": [
    "top_5000['SNP'].to_csv('top_5000_hear_losing_snp_id.txt',index=None,header=None)"
   ]
  }
 ],
 "metadata": {
  "kernelspec": {
   "display_name": "Python 3",
   "language": "python",
   "name": "python3"
  },
  "language_info": {
   "codemirror_mode": {
    "name": "ipython",
    "version": 3
   },
   "file_extension": ".py",
   "mimetype": "text/x-python",
   "name": "python",
   "nbconvert_exporter": "python",
   "pygments_lexer": "ipython3",
   "version": "3.8.10"
  }
 },
 "nbformat": 4,
 "nbformat_minor": 2
}
