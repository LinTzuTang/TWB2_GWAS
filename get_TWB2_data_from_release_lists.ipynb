{
 "cells": [
  {
   "cell_type": "code",
   "execution_count": null,
   "metadata": {},
   "outputs": [],
   "source": [
    "import pandas as pd "
   ]
  },
  {
   "cell_type": "markdown",
   "metadata": {},
   "source": [
    "## lab_info"
   ]
  },
  {
   "cell_type": "code",
   "execution_count": null,
   "metadata": {},
   "outputs": [],
   "source": [
    "lab_info = pd.read_csv('lab_info.csv', low_memory=False)"
   ]
  },
  {
   "cell_type": "code",
   "execution_count": null,
   "metadata": {},
   "outputs": [],
   "source": [
    "# get TWB2_info (with 'TWB2_ID' & 'Baseline')\n",
    "TWB2_info = lab_info[~pd.isna(lab_info['TWB2_ID']) & (lab_info['FOLLOW'] == 'Baseline')]"
   ]
  },
  {
   "cell_type": "code",
   "execution_count": null,
   "metadata": {},
   "outputs": [],
   "source": [
    "# save id as PLINK accept format ('FID', 'IID')\n",
    "# 'FID' and 'IID' are same in our samples\n",
    "def save_id(ids, file_name):\n",
    "    d = {'FID': list(ids), 'IID': list(ids)}\n",
    "    df = pd.DataFrame(data=d)\n",
    "    df.to_csv(file_name, header=False, index=None, sep=' ', mode='w')"
   ]
  },
  {
   "cell_type": "code",
   "execution_count": null,
   "metadata": {},
   "outputs": [],
   "source": [
    "# save TWB2_ID for PLINK --keep \n",
    "save_id(TWB_2_info['TWB2_ID'], 'TWB2_id.txt')"
   ]
  },
  {
   "cell_type": "code",
   "execution_count": null,
   "metadata": {},
   "outputs": [],
   "source": [
    "# save a Release_No & TWB2_ID  conversion table for future study\n",
    "TWB_2_info[['Release_No','TWB2_ID']].to_csv('TWB2_id_info.txt', header=False, index=None, sep=' ', mode='w')"
   ]
  },
  {
   "cell_type": "markdown",
   "metadata": {},
   "source": [
    "## release lists"
   ]
  },
  {
   "cell_type": "code",
   "execution_count": null,
   "metadata": {},
   "outputs": [],
   "source": [
    "# read release lists\n",
    "survey_data = pd.read_csv('release_list_survey.csv', low_memory=False)\n",
    "measure_data = pd.read_csv('release_list_measure.csv', low_memory=False)"
   ]
  },
  {
   "cell_type": "code",
   "execution_count": null,
   "metadata": {},
   "outputs": [],
   "source": [
    "# merge survey and measure data then keep only \"Baseline\" samples\n",
    "# in this study we temporary not consider \"Follow_up\" sample\n",
    "merged_data = pd.concat([survey_data,measure_data.iloc[:,3:]], axis=1)\n",
    "merged_data_baseline = merged_data[merged_data['FOLLOW']=='Baseline']"
   ]
  },
  {
   "cell_type": "code",
   "execution_count": null,
   "metadata": {},
   "outputs": [],
   "source": [
    "# keep only TWB2 sample data\n",
    "TWB2_data = merged_data_baseline[merged_data_baseline['Release_No'].isin(TWB_2_info['Release_No'])]"
   ]
  },
  {
   "cell_type": "markdown",
   "metadata": {},
   "source": [
    "## TWB2 data "
   ]
  },
  {
   "cell_type": "code",
   "execution_count": null,
   "metadata": {},
   "outputs": [],
   "source": [
    "# add TWB2_ID at first column\n",
    "TWB2_data.insert(0,'TWB2_ID',TWB2_data['Release_No'])\n",
    "TWB2_data['TWB2_ID'] = TWB2_data['TWB2_ID'].replace(dict(zip(TWB_2_info['Release_No'], TWB_2_info['TWB2_ID'])))"
   ]
  },
  {
   "cell_type": "code",
   "execution_count": null,
   "metadata": {},
   "outputs": [],
   "source": [
    "# save TWB2 data\n",
    "TWB2_data.to_csv('TWB2_data.csv',index=False)\n",
    "# In the future study, we will get individual information from TWB2_data.csv"
   ]
  }
 ],
 "metadata": {
  "kernelspec": {
   "display_name": "Python 3",
   "language": "python",
   "name": "python3"
  },
  "language_info": {
   "codemirror_mode": {
    "name": "ipython",
    "version": 3
   },
   "file_extension": ".py",
   "mimetype": "text/x-python",
   "name": "python",
   "nbconvert_exporter": "python",
   "pygments_lexer": "ipython3",
   "version": "3.8.10"
  }
 },
 "nbformat": 4,
 "nbformat_minor": 2
}
