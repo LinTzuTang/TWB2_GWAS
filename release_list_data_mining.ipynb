{
 "cells": [
  {
   "cell_type": "code",
   "execution_count": null,
   "metadata": {},
   "outputs": [],
   "source": [
    "import pandas as pd \n",
    "import matplotlib.pyplot as plt\n",
    "import seaborn as sns\n",
    "import scipy.stats"
   ]
  },
  {
   "cell_type": "code",
   "execution_count": null,
   "metadata": {},
   "outputs": [],
   "source": [
    "# read file\n",
    "survey_data = pd.read_csv('release_list_survey.csv', low_memory=False)\n",
    "measure_data = pd.read_csv('release_list_measure.csv', low_memory=False)\n",
    "print(survey_data.shape)\n",
    "print(measure_data.shape)"
   ]
  },
  {
   "cell_type": "code",
   "execution_count": null,
   "metadata": {},
   "outputs": [],
   "source": [
    "merged_data = pd.concat([survey_data,measure_data.iloc[:,3:]], axis=1)\n",
    "merged_data_baseline = merged_data[merged_data['FOLLOW']=='Baseline']"
   ]
  },
  {
   "cell_type": "markdown",
   "metadata": {},
   "source": [
    "## Hear losing"
   ]
  },
  {
   "cell_type": "code",
   "execution_count": null,
   "metadata": {
    "scrolled": true
   },
   "outputs": [],
   "source": [
    "hearing_loss_data = merged_data_baseline[merged_data_baseline['I_32'].notnull()]\n",
    "print(hearing_loss_data['I_32'].count())\n",
    "print(hearing_loss_data['I_32'].value_counts())\n",
    "hearing_loss_data['I_32'].value_counts().plot(kind = 'barh')\n",
    "plt.show()"
   ]
  },
  {
   "cell_type": "code",
   "execution_count": null,
   "metadata": {},
   "outputs": [],
   "source": [
    "#sex\n",
    "male_hearing_value = hearing_loss_data['I_32'][hearing_loss_data['SEX']==1]\n",
    "female_hearing_value = hearing_loss_data['I_32'][hearing_loss_data['SEX']==2]\n",
    "#age\n",
    "age_old_hearing_value = hearing_loss_data['I_32'][hearing_loss_data['AGE'] > 60 ]\n",
    "age_young_hearing_value = hearing_loss_data['I_32'][hearing_loss_data['AGE'] <= 60]"
   ]
  },
  {
   "cell_type": "code",
   "execution_count": null,
   "metadata": {},
   "outputs": [],
   "source": [
    "def show_hist(v_1, v_2):\n",
    "    sns.histplot(v_1, color='blue', label='O')\n",
    "    sns.histplot(v_2, color='red', label ='Y')\n",
    "    plt.gca().set(title =\"Histogram\",ylabel='Count')\n",
    "    plt.legend()\n",
    "    plt.show()"
   ]
  },
  {
   "cell_type": "code",
   "execution_count": null,
   "metadata": {},
   "outputs": [],
   "source": [
    "show_hist(age_old_hearing_value, age_young_hearing_value)\n",
    "# show_hist(male_hearing_value, female_hearing_value)"
   ]
  },
  {
   "cell_type": "code",
   "execution_count": null,
   "metadata": {
    "scrolled": true
   },
   "outputs": [],
   "source": [
    "print(male_hearing_value.count())\n",
    "print(female_hearing_value.count())\n",
    "print(age_old_hearing_value.count())\n",
    "print(age_young_hearing_value.count())"
   ]
  },
  {
   "cell_type": "code",
   "execution_count": null,
   "metadata": {},
   "outputs": [],
   "source": [
    "male_hearing_value_list = male_hearing_value.value_counts().to_list()\n",
    "female_hearing_value_list = female_hearing_value.value_counts().to_list()\n",
    "age_old_hearing_value_list = age_old_hearing_value.value_counts().to_list()\n",
    "age_young_hearing_value_list =age_young_hearing_value.value_counts().to_list()"
   ]
  },
  {
   "cell_type": "code",
   "execution_count": null,
   "metadata": {
    "scrolled": true
   },
   "outputs": [],
   "source": [
    "# chi square test\n",
    "scipy.stats.chi2_contingency([male_hearing_value_list, female_hearing_value_list])\n"
   ]
  },
  {
   "cell_type": "code",
   "execution_count": null,
   "metadata": {},
   "outputs": [],
   "source": [
    "scipy.stats.chi2_contingency([age_old_hearing_value_list, age_young_hearing_value_list])"
   ]
  },
  {
   "cell_type": "markdown",
   "metadata": {},
   "source": [
    "## MMSE"
   ]
  },
  {
   "cell_type": "code",
   "execution_count": null,
   "metadata": {},
   "outputs": [],
   "source": [
    "# MMSE\n",
    "mmse_data = merged_data_baseline[merged_data_baseline['MMSE'].notnull()]\n",
    "print(mmse_data['MMSE'].count())\n",
    "print(mmse_data['MMSE'][mmse_data['MMSE']<16].count())\n",
    "print(mmse_data['MMSE'][mmse_data['MMSE']<24].count())\n",
    "#print(mmse_data['MMSE'].value_counts())"
   ]
  },
  {
   "cell_type": "code",
   "execution_count": null,
   "metadata": {},
   "outputs": [],
   "source": [
    "sns.histplot(mmse_data['MMSE'])\n",
    "plt.show()"
   ]
  }
 ],
 "metadata": {
  "kernelspec": {
   "display_name": "Python 3",
   "language": "python",
   "name": "python3"
  },
  "language_info": {
   "codemirror_mode": {
    "name": "ipython",
    "version": 3
   },
   "file_extension": ".py",
   "mimetype": "text/x-python",
   "name": "python",
   "nbconvert_exporter": "python",
   "pygments_lexer": "ipython3",
   "version": "3.8.10"
  }
 },
 "nbformat": 4,
 "nbformat_minor": 2
}
